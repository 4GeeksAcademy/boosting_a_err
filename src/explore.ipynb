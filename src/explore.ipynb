{
    "cells": [
        {
            "cell_type": "markdown",
            "metadata": {},
            "source": [
                "# Explore here"
            ]
        },
        {
            "cell_type": "code",
            "execution_count": 1,
            "metadata": {},
            "outputs": [],
            "source": [
                "# Your code here\n",
                "\n",
                "\n",
                "import pandas as pd\n",
                "import numpy as np\n",
                "import matplotlib.pyplot as plt\n",
                "import seaborn as sns\n",
                "import os\n",
                "import pickle\n",
                "from sklearn.model_selection import train_test_split\n",
                "from sklearn.ensemble import GradientBoostingClassifier\n",
                "from sklearn.metrics import accuracy_score, classification_report\n"
            ]
        },
        {
            "cell_type": "code",
            "execution_count": 2,
            "metadata": {},
            "outputs": [],
            "source": [
                "\n",
                "# Paso 1: Carga del conjunto de datos\n",
                "models_dir = \"../models/\"\n",
                "if not os.path.exists(models_dir):\n",
                "    os.makedirs(models_dir)\n",
                "\n",
                "# Cargar los datos\n",
                "url = \"https://raw.githubusercontent.com/4GeeksAcademy/decision-tree-project-tutorial/main/diabetes.csv\"\n",
                "df = pd.read_csv(url)\n",
                "\n",
                "X = df.drop(columns=[\"Outcome\"])\n",
                "y = df[\"Outcome\"]\n",
                "\n",
                "X_train, X_test, y_train, y_test = train_test_split(X, y, test_size=0.2, random_state=42)\n"
            ]
        },
        {
            "cell_type": "code",
            "execution_count": 7,
            "metadata": {},
            "outputs": [
                {
                    "name": "stdout",
                    "output_type": "stream",
                    "text": [
                        "Exactitud del modelo Boosting: 0.79\n"
                    ]
                }
            ],
            "source": [
                "\n",
                "# Paso 2: Construye un boosting\n",
                "learning_rates = [0.01, 0.1, 0.5, 1.0]\n",
                "n_estimators_range = [50, 100, 150]\n",
                "results = {}\n",
                "\n",
                "for lr in learning_rates:\n",
                "    for n in n_estimators_range:\n",
                "        model = GradientBoostingClassifier(n_estimators=n, learning_rate=lr, random_state=42)\n",
                "        model.fit(X_train, y_train)\n",
                "        y_pred = model.predict(X_test)\n",
                "        results[(lr, n)] = accuracy_score(y_test, y_pred)\n",
                "\n",
                "\n",
                "\n",
                "\n",
                "best_lr = max(results, key=results.get)[0]\n",
                "best_n = max(results, key=results.get)[1]\n",
                "best_model = GradientBoostingClassifier(n_estimators=best_n, learning_rate=best_lr, random_state=42)\n",
                "best_model.fit(X_train, y_train)\n",
                "\n",
                "y_pred_best = best_model.predict(X_test)\n",
                "accuracy_best = accuracy_score(y_test, y_pred_best)\n",
                "print(f\"Exactitud del modelo Boosting: {accuracy_best:.2f}\")\n",
                "\n"
            ]
        },
        {
            "cell_type": "code",
            "execution_count": null,
            "metadata": {},
            "outputs": [
                {
                    "name": "stdout",
                    "output_type": "stream",
                    "text": [
                        "Modelo guardado correctamente en ../models/boosting_classifier.pkl\n",
                        "\n",
                        "Reporte de clasificación para Boosting:\n",
                        "              precision    recall  f1-score   support\n",
                        "\n",
                        "           0       0.78      0.93      0.85        99\n",
                        "           1       0.81      0.53      0.64        55\n",
                        "\n",
                        "    accuracy                           0.79       154\n",
                        "   macro avg       0.79      0.73      0.74       154\n",
                        "weighted avg       0.79      0.79      0.77       154\n",
                        "\n",
                        "Accuracy - Árbol de Decisión: 0.76\n",
                        "Accuracy - Random Forest: 0.71\n",
                        "Accuracy - Boosting: 0.79\n"
                    ]
                }
            ],
            "source": [
                "\n",
                "# Paso 3: Guarda el modelo\n",
                "model_path = os.path.join(models_dir, \"boosting_classifier.pkl\")\n",
                "\n",
                "with open(model_path, \"wb\") as f:\n",
                "    pickle.dump(best_model, f)\n",
                "\n",
                "print(f\"Modelo guardado correctamente en {model_path}\")\n",
                "\n"
            ]
        },
        {
            "cell_type": "code",
            "execution_count": 9,
            "metadata": {},
            "outputs": [
                {
                    "name": "stdout",
                    "output_type": "stream",
                    "text": [
                        "\n",
                        "Reporte de clasificación para Boosting:\n",
                        "              precision    recall  f1-score   support\n",
                        "\n",
                        "           0       0.78      0.93      0.85        99\n",
                        "           1       0.81      0.53      0.64        55\n",
                        "\n",
                        "    accuracy                           0.79       154\n",
                        "   macro avg       0.79      0.73      0.74       154\n",
                        "weighted avg       0.79      0.79      0.77       154\n",
                        "\n",
                        "Accuracy - Árbol de Decisión: 0.76\n",
                        "Accuracy - Random Forest: 0.71\n",
                        "Accuracy - Boosting: 0.79\n"
                    ]
                }
            ],
            "source": [
                "# Paso 4: Analiza y compara los resultados de los modelos\n",
                "print(\"\\nReporte de clasificación para Boosting:\")\n",
                "print(classification_report(y_test, y_pred_best))\n",
                "\n",
                "tree_acc = 0.76  # Accuracy reportado del modelo de árbol de decisión\n",
                "rf_acc = 0.71  # Accuracy reportado del modelo Random Forest\n",
                "boosting_acc = accuracy_best\n",
                "\n",
                "models_comparison = {\"Decision Tree\": tree_acc, \"Random Forest\": rf_acc, \"Boosting\": boosting_acc}\n",
                "\n",
                "\n",
                "\n",
                "print(f\"Accuracy - Árbol de Decisión: {tree_acc:.2f}\")\n",
                "print(f\"Accuracy - Random Forest: {rf_acc:.2f}\")\n",
                "print(f\"Accuracy - Boosting: {boosting_acc:.2f}\")\n"
            ]
        }
    ],
    "metadata": {
        "kernelspec": {
            "display_name": "Python 3",
            "language": "python",
            "name": "python3"
        },
        "language_info": {
            "codemirror_mode": {
                "name": "ipython",
                "version": 3
            },
            "file_extension": ".py",
            "mimetype": "text/x-python",
            "name": "python",
            "nbconvert_exporter": "python",
            "pygments_lexer": "ipython3",
            "version": "3.11.4"
        },
        "orig_nbformat": 4
    },
    "nbformat": 4,
    "nbformat_minor": 2
}
